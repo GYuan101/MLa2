{
 "cells": [
  {
   "cell_type": "code",
   "execution_count": 48,
   "metadata": {
    "scrolled": true
   },
   "outputs": [],
   "source": [
    "import numpy as np\n",
    "import pandas as pd\n",
    "import mlrose\n",
    "from sklearn.preprocessing import LabelEncoder\n",
    "from sklearn.model_selection import train_test_split\n",
    "from sklearn.preprocessing import MinMaxScaler, StandardScaler\n",
    "from sklearn.metrics import accuracy_score, recall_score\n",
    "import matplotlib.pyplot as plt"
   ]
  },
  {
   "cell_type": "markdown",
   "metadata": {},
   "source": [
    "# Part I"
   ]
  },
  {
   "cell_type": "markdown",
   "metadata": {},
   "source": [
    "## Problem A"
   ]
  },
  {
   "cell_type": "code",
   "execution_count": 16,
   "metadata": {},
   "outputs": [],
   "source": [
    "fitness = mlrose.FourPeaks(t_pct=0.05)\n",
    "problem = mlrose.DiscreteOpt(length=24, fitness_fn=fitness, maximize=True, max_val=2)\n",
    "schedule = mlrose.ExpDecay()"
   ]
  },
  {
   "cell_type": "code",
   "execution_count": 44,
   "metadata": {},
   "outputs": [
    {
     "name": "stdout",
     "output_type": "stream",
     "text": [
      "[1 1 1 1 1 1 1 1 0 0 1 0 0 0 0 0 0 0 0 0 0 0 0 0]\n",
      "37.0\n"
     ]
    }
   ],
   "source": [
    "#init_state = np.array([0, 1, 2, 3, 4, 5, 6, 7, 8, 9, 10, 11])\n",
    "best_state1, best_fitness1, curve1 = mlrose.random_hill_climb(\n",
    "    problem, max_attempts=20, max_iters=np.inf, restarts=10, \n",
    "    init_state=None, curve=True, random_state=3407)\n",
    "\n",
    "print(best_state1)\n",
    "print(best_fitness1)"
   ]
  },
  {
   "cell_type": "code",
   "execution_count": 40,
   "metadata": {},
   "outputs": [
    {
     "name": "stdout",
     "output_type": "stream",
     "text": [
      "[1 1 1 0 0 0 0 0 0 0 0 0 0 0 0 0 0 0 0 0 0 0 0 0]\n",
      "45.0\n"
     ]
    }
   ],
   "source": [
    "# init_state = np.array([0, 1, 2, 3, 4, 5, 6, 7, 8, 9, 10, 11])\n",
    "best_state2, best_fitness2, curve2 = mlrose.simulated_annealing(\n",
    "    problem, schedule=schedule, max_attempts=50, curve=True, \n",
    "    max_iters=np.inf, init_state=None, random_state=3407)\n",
    "\n",
    "print(best_state2)\n",
    "print(best_fitness2)"
   ]
  },
  {
   "cell_type": "code",
   "execution_count": 21,
   "metadata": {},
   "outputs": [
    {
     "name": "stdout",
     "output_type": "stream",
     "text": [
      "[1 1 1 1 1 1 1 1 1 1 1 1 1 1 1 1 1 0 0 1 1 0 0 0]\n",
      "41.0\n"
     ]
    }
   ],
   "source": [
    "best_state3, best_fitness3, curve3 = mlrose.genetic_alg(\n",
    "    problem, pop_size=200, mutation_prob=0.1, max_attempts=120, \n",
    "    max_iters=np.inf, curve=True, random_state=3407)\n",
    "\n",
    "print(best_state3)\n",
    "print(best_fitness3)"
   ]
  },
  {
   "cell_type": "code",
   "execution_count": 19,
   "metadata": {},
   "outputs": [
    {
     "name": "stdout",
     "output_type": "stream",
     "text": [
      "[1 1 1 1 1 1 1 1 1 1 1 1 1 1 1 1 1 1 1 1 1 0 0 0]\n",
      "45.0\n"
     ]
    }
   ],
   "source": [
    "best_state3, best_fitness3, curve3 = mlrose.genetic_alg(\n",
    "    problem, pop_size=500, mutation_prob=0.25, max_attempts=180, \n",
    "    max_iters=np.inf, curve=True, random_state=3407)\n",
    "\n",
    "print(best_state3)\n",
    "print(best_fitness3)"
   ]
  },
  {
   "cell_type": "code",
   "execution_count": 42,
   "metadata": {},
   "outputs": [
    {
     "name": "stdout",
     "output_type": "stream",
     "text": [
      "[1 1 1 0 0 0 0 0 0 0 0 0 0 0 0 0 0 0 0 0 0 0 0 0]\n",
      "45.0\n"
     ]
    }
   ],
   "source": [
    "best_state4, best_fitness4, curve4 = mlrose.mimic(\n",
    "    problem, pop_size=200, keep_pct=0.2, max_attempts=30, \n",
    "    max_iters=np.inf, curve=True, random_state=3407, fast_mimic=False)\n",
    "\n",
    "print(best_state4)\n",
    "print(best_fitness4)"
   ]
  },
  {
   "cell_type": "code",
   "execution_count": 46,
   "metadata": {
    "scrolled": true
   },
   "outputs": [
    {
     "data": {
      "image/png": "[encoded data removed]",
      "text/plain": [
       "<Figure size 432x288 with 1 Axes>"
      ]
     },
     "metadata": {
      "needs_background": "light"
     },
     "output_type": "display_data"
    }
   ],
   "source": [
    "plt.figure()\n",
    "plt.plot(np.arange(1, len(curve1)+1), curve1, label='random_hill_climb')\n",
    "plt.plot(np.arange(1, len(curve2)+1), curve2, label='simulated_annealing')\n",
    "plt.plot(np.arange(1, len(curve3)+1), curve3, label='genetic_alg')\n",
    "plt.plot(np.arange(1, len(curve4)+1), curve4, label='mimic')\n",
    "plt.legend()\n",
    "plt.xlabel('Iter')\n",
    "plt.ylabel('Obej')\n",
    "plt.show()"
   ]
  },
  {
   "cell_type": "markdown",
   "metadata": {},
   "source": [
    "## Problem B"
   ]
  },
  {
   "cell_type": "code",
   "execution_count": 23,
   "metadata": {},
   "outputs": [],
   "source": [
    "edges = [(0, 1), (0, 2), (0, 4), (1, 3), (2, 3), (3, 4), (0,3)] \n",
    "fitness = mlrose.MaxKColor(edges)\n",
    "problem = mlrose.DiscreteOpt(length=5, fitness_fn=fitness, maximize=False, max_val=2)\n",
    "schedule = mlrose.ExpDecay()"
   ]
  },
  {
   "cell_type": "code",
   "execution_count": 24,
   "metadata": {},
   "outputs": [
    {
     "name": "stdout",
     "output_type": "stream",
     "text": [
      "[1 0 0 1 0]\n",
      "1.0\n"
     ]
    }
   ],
   "source": [
    "best_state1, best_fitness1, curve1 = mlrose.random_hill_climb(\n",
    "    problem, max_attempts=20, max_iters=np.inf, restarts=3, \n",
    "    init_state=None, curve=True, random_state=3407)\n",
    "\n",
    "print(best_state1)\n",
    "print(best_fitness1)"
   ]
  },
  {
   "cell_type": "code",
   "execution_count": 25,
   "metadata": {},
   "outputs": [
    {
     "name": "stdout",
     "output_type": "stream",
     "text": [
      "[1 0 0 1 0]\n",
      "1.0\n"
     ]
    }
   ],
   "source": [
    "best_state2, best_fitness2, curve2 = mlrose.simulated_annealing(\n",
    "    problem, schedule=schedule, max_attempts=30, curve=True,\n",
    "    max_iters=np.inf, init_state=None, random_state=3407)\n",
    "\n",
    "print(best_state1)\n",
    "print(best_fitness1)"
   ]
  },
  {
   "cell_type": "code",
   "execution_count": 26,
   "metadata": {},
   "outputs": [
    {
     "name": "stdout",
     "output_type": "stream",
     "text": [
      "[0 1 1 0 1]\n",
      "1.0\n"
     ]
    }
   ],
   "source": [
    "best_state3, best_fitness3, curve3 = mlrose.genetic_alg(\n",
    "    problem, pop_size=200, mutation_prob=0.1, max_attempts=30, \n",
    "    max_iters=np.inf, curve=True, random_state=3407)\n",
    "\n",
    "print(best_state3)\n",
    "print(best_fitness3)"
   ]
  },
  {
   "cell_type": "code",
   "execution_count": 27,
   "metadata": {},
   "outputs": [
    {
     "name": "stdout",
     "output_type": "stream",
     "text": [
      "[1 0 0 1 0]\n",
      "1.0\n"
     ]
    }
   ],
   "source": [
    "best_state4, best_fitness4, curve4 = mlrose.mimic(\n",
    "    problem, pop_size=200, keep_pct=0.2, max_attempts=30, \n",
    "    max_iters=np.inf, curve=True, random_state=3407, fast_mimic=False)\n",
    "\n",
    "print(best_state4)\n",
    "print(best_fitness4)"
   ]
  },
  {
   "cell_type": "code",
   "execution_count": 28,
   "metadata": {
    "scrolled": true
   },
   "outputs": [
    {
     "data": {
      "image/png": "[encoded data removed]",
      "text/plain": [
       "<Figure size 432x288 with 1 Axes>"
      ]
     },
     "metadata": {
      "needs_background": "light"
     },
     "output_type": "display_data"
    }
   ],
   "source": [
    "plt.figure()\n",
    "plt.plot(np.arange(1, len(curve1)+1), curve1, label='random_hill_climb')\n",
    "plt.plot(np.arange(1, len(curve2)+1), curve2, label='simulated_annealing')\n",
    "plt.plot(np.arange(1, len(curve3)+1), curve3, label='genetic_alg')\n",
    "plt.plot(np.arange(1, len(curve4)+1), curve4, label='mimic')\n",
    "plt.legend()\n",
    "plt.xlabel('Iter')\n",
    "plt.ylabel('Obej')\n",
    "plt.show()"
   ]
  },
  {
   "cell_type": "markdown",
   "metadata": {},
   "source": [
    "## Problem C"
   ]
  },
  {
   "cell_type": "code",
   "execution_count": 48,
   "metadata": {},
   "outputs": [],
   "source": [
    "fitness = mlrose.Queens()\n",
    "problem = mlrose.DiscreteOpt(\n",
    "    length=8, fitness_fn=fitness, maximize=False, max_val=8)\n",
    "schedule = mlrose.ExpDecay()"
   ]
  },
  {
   "cell_type": "code",
   "execution_count": 49,
   "metadata": {},
   "outputs": [
    {
     "name": "stdout",
     "output_type": "stream",
     "text": [
      "[2 5 1 1 4 6 3 0]\n",
      "1.0\n"
     ]
    }
   ],
   "source": [
    "best_state1, best_fitness1, curve1 = mlrose.random_hill_climb(\n",
    "    problem, max_attempts=20, max_iters=np.inf, restarts=3, \n",
    "    init_state=None, curve=True, random_state=3407)\n",
    "\n",
    "print(best_state1)\n",
    "print(best_fitness1)"
   ]
  },
  {
   "cell_type": "code",
   "execution_count": 50,
   "metadata": {},
   "outputs": [
    {
     "name": "stdout",
     "output_type": "stream",
     "text": [
      "[2 5 1 1 4 6 3 0]\n",
      "1.0\n"
     ]
    }
   ],
   "source": [
    "best_state2, best_fitness2, curve2 = mlrose.simulated_annealing(\n",
    "    problem, schedule=schedule, max_attempts=30, curve=True,\n",
    "    max_iters=np.inf, init_state=None, random_state=3407)\n",
    "\n",
    "print(best_state1)\n",
    "print(best_fitness1)"
   ]
  },
  {
   "cell_type": "code",
   "execution_count": 51,
   "metadata": {},
   "outputs": [
    {
     "name": "stdout",
     "output_type": "stream",
     "text": [
      "[5 7 0 6 3 1 6 4]\n",
      "1.0\n"
     ]
    }
   ],
   "source": [
    "best_state3, best_fitness3, curve3 = mlrose.genetic_alg(\n",
    "    problem, pop_size=200, mutation_prob=0.1, max_attempts=30, \n",
    "    max_iters=np.inf, curve=True, random_state=3407)\n",
    "\n",
    "print(best_state3)\n",
    "print(best_fitness3)"
   ]
  },
  {
   "cell_type": "code",
   "execution_count": 52,
   "metadata": {},
   "outputs": [
    {
     "name": "stdout",
     "output_type": "stream",
     "text": [
      "[3 6 4 7 0 2 5 1]\n",
      "1.0\n"
     ]
    }
   ],
   "source": [
    "best_state4, best_fitness4, curve4 = mlrose.mimic(\n",
    "    problem, pop_size=200, keep_pct=0.2, max_attempts=30, \n",
    "    max_iters=np.inf, curve=True, random_state=3407, fast_mimic=False)\n",
    "\n",
    "print(best_state4)\n",
    "print(best_fitness4)"
   ]
  },
  {
   "cell_type": "code",
   "execution_count": 53,
   "metadata": {},
   "outputs": [
    {
     "data": {
      "image/png": "[encoded data removed]",
      "text/plain": [
       "<Figure size 432x288 with 1 Axes>"
      ]
     },
     "metadata": {
      "needs_background": "light"
     },
     "output_type": "display_data"
    }
   ],
   "source": [
    "plt.figure()\n",
    "plt.plot(np.arange(1, len(curve1)+1), curve1, label='random_hill_climb')\n",
    "plt.plot(np.arange(1, len(curve2)+1), curve2, label='simulated_annealing')\n",
    "plt.plot(np.arange(1, len(curve3)+1), curve3, label='genetic_alg')\n",
    "plt.plot(np.arange(1, len(curve4)+1), curve4, label='mimic')\n",
    "plt.legend()\n",
    "plt.xlabel('Iter')\n",
    "plt.ylabel('Obej')\n",
    "plt.show()"
   ]
  },
  {
   "cell_type": "markdown",
   "metadata": {},
   "source": [
    "# part II"
   ]
  },
  {
   "cell_type": "code",
   "execution_count": 2,
   "metadata": {},
   "outputs": [],
   "source": [
    "def data_prepare(data):\n",
    "    data_copy = data.copy()\n",
    "    numeric_col = list()\n",
    "    category_col = list()\n",
    "    for _col in data_copy.columns:\n",
    "        try:\n",
    "            data_copy.loc[:, _col] = data_copy.loc[:, _col].astype(np.float32)\n",
    "            numeric_col.append(_col)\n",
    "        except ValueError:\n",
    "            label_encoder = LabelEncoder().fit(data_copy.loc[:, _col].values)\n",
    "            _class = label_encoder.classes_\n",
    "            tmp_col = label_encoder.transform(data_copy.loc[:, _col].values)\n",
    "            if 'unknown' in _class:\n",
    "                tmp_col = np.where(tmp_col==label_encoder.transform(['unknown']), np.nan, tmp_col)\n",
    "            elif 'yes' in _class:\n",
    "                tmp_col = np.where(tmp_col==label_encoder.transform(['yes']), 1, tmp_col)\n",
    "            elif 'no' in _class:\n",
    "                tmp_col = np.where(tmp_col==label_encoder.transform(['no']), 0, tmp_col)\n",
    "\n",
    "            data_copy.loc[:, _col] = tmp_col.astype(np.float32)\n",
    "            category_col.append(_col)\n",
    "\n",
    "    return data_copy, numeric_col, category_col"
   ]
  },
  {
   "cell_type": "code",
   "execution_count": 86,
   "metadata": {
    "scrolled": true
   },
   "outputs": [],
   "source": [
    "data = pd.read_csv('D:/GT/ML/a1/bank-additional/bank-additional-full.csv', sep=';', header=0)\n",
    "# test_data = pd.read_csv('D:/GT/ML/a1/bank-additional/bank-additional.csv', sep=';', header=0)\n",
    "data_copy, numeric_col, category_col = data_prepare(data)\n",
    "data_copy.mask(data_copy.isnull(), data_copy.median(0), axis=1, inplace=True)\n",
    "\n",
    "x_train, x_test, y_train, y_test = train_test_split(\n",
    "    data_copy.iloc[:, :-1], data_copy['y'], test_size=0.05, \n",
    "    random_state=3407, stratify=data_copy['y'])\n",
    "\n",
    "scaler = MinMaxScaler()\n",
    "scaler.fit(x_train)\n",
    "x_train = scaler.transform(x_train)\n",
    "x_test = scaler.transform(x_test)"
   ]
  },
  {
   "cell_type": "code",
   "execution_count": 87,
   "metadata": {},
   "outputs": [
    {
     "data": {
      "text/plain": [
       "NeuralNetwork(clip_max=5, early_stopping=True, hidden_nodes=[64, 32, 2],\n",
       "              learning_rate=0.001, max_iters=1000, restarts=3)"
      ]
     },
     "execution_count": 87,
     "metadata": {},
     "output_type": "execute_result"
    }
   ],
   "source": [
    "nn_model0 = mlrose.NeuralNetwork(\n",
    "    hidden_nodes=[64,32,2], activation='tanh',\n",
    "    algorithm='gradient_descent', max_iters=1000, \n",
    "    bias=True, is_classifier=True, learning_rate=0.001, \n",
    "    early_stopping=True, clip_max=5, max_attempts=200, \n",
    "    restarts=3, random_state=3407, curve=True)\n",
    "\n",
    "nn_model0.fit(x_train, y_train)"
   ]
  },
  {
   "cell_type": "code",
   "execution_count": 88,
   "metadata": {},
   "outputs": [
    {
     "name": "stdout",
     "output_type": "stream",
     "text": [
      "0.7932682478020855 0.27518148820326677\n",
      "0.7927184466019418 0.29310344827586204\n"
     ]
    }
   ],
   "source": [
    "y_train_pred = nn_model0.predict(x_train)\n",
    "y_train_accuracy = accuracy_score(y_train, y_train_pred)\n",
    "print(y_train_accuracy, recall_score(y_train, y_train_pred.flatten()))\n",
    "\n",
    "y_test_pred = nn_model0.predict(x_test)\n",
    "y_test_accuracy = accuracy_score(y_test, y_test_pred)\n",
    "print(y_test_accuracy, recall_score(y_test, y_test_pred.flatten()))"
   ]
  },
  {
   "cell_type": "code",
   "execution_count": 93,
   "metadata": {},
   "outputs": [
    {
     "data": {
      "text/plain": [
       "NeuralNetwork(clip_max=5, early_stopping=True, hidden_nodes=[64, 32, 2],\n",
       "              learning_rate=0.001, max_iters=2000, restarts=3)"
      ]
     },
     "execution_count": 93,
     "metadata": {},
     "output_type": "execute_result"
    }
   ],
   "source": [
    "nn_model1 = mlrose.NeuralNetwork(\n",
    "    hidden_nodes=[64,32,2], activation='tanh',\n",
    "    algorithm='random_hill_climb', max_iters=2000, \n",
    "    bias=True, is_classifier=True, learning_rate=0.001, \n",
    "    early_stopping=True, clip_max=5, max_attempts=10, \n",
    "    restarts=3, random_state=3407, curve=True)\n",
    "\n",
    "nn_model1.fit(x_train, y_train)"
   ]
  },
  {
   "cell_type": "code",
   "execution_count": 94,
   "metadata": {},
   "outputs": [
    {
     "name": "stdout",
     "output_type": "stream",
     "text": [
      "0.7970507053772234 0.2679219600725953\n",
      "0.7975728155339806 0.28448275862068967\n"
     ]
    }
   ],
   "source": [
    "y_train_pred = nn_model1.predict(x_train)\n",
    "y_train_accuracy = accuracy_score(y_train, y_train_pred)\n",
    "print(y_train_accuracy, recall_score(y_train, y_train_pred.flatten()))\n",
    "\n",
    "y_test_pred = nn_model1.predict(x_test)\n",
    "y_test_accuracy = accuracy_score(y_test, y_test_pred)\n",
    "print(y_test_accuracy, recall_score(y_test, y_test_pred.flatten()))"
   ]
  },
  {
   "cell_type": "code",
   "execution_count": 118,
   "metadata": {},
   "outputs": [
    {
     "data": {
      "text/plain": [
       "NeuralNetwork(clip_max=5, early_stopping=True, hidden_nodes=[64, 32, 2],\n",
       "              learning_rate=0.001, max_iters=2000,\n",
       "              schedule=<mlrose.decay.GeomDecay object at 0x0000020CEE436978>)"
      ]
     },
     "execution_count": 118,
     "metadata": {},
     "output_type": "execute_result"
    }
   ],
   "source": [
    "schedule = mlrose.GeomDecay()\n",
    "nn_model2 = mlrose.NeuralNetwork(\n",
    "    hidden_nodes=[64,32,2], activation='tanh',\n",
    "    algorithm='simulated_annealing', max_iters=2000, \n",
    "    bias=True, is_classifier=True, learning_rate=0.001, \n",
    "    early_stopping=True, clip_max=5, max_attempts=10, \n",
    "    schedule=schedule, random_state=3407, curve=True)\n",
    "\n",
    "nn_model2.fit(x_train, y_train)"
   ]
  },
  {
   "cell_type": "code",
   "execution_count": 119,
   "metadata": {},
   "outputs": [
    {
     "name": "stdout",
     "output_type": "stream",
     "text": [
      "0.7928848906154161 0.27404718693284935\n",
      "0.7927184466019418 0.29310344827586204\n"
     ]
    }
   ],
   "source": [
    "y_train_pred = nn_model2.predict(x_train)\n",
    "y_train_accuracy = accuracy_score(y_train, y_train_pred)\n",
    "print(y_train_accuracy, recall_score(y_train, y_train_pred.flatten()))\n",
    "\n",
    "y_test_pred = nn_model2.predict(x_test)\n",
    "y_test_accuracy = accuracy_score(y_test, y_test_pred)\n",
    "print(y_test_accuracy, recall_score(y_test, y_test_pred.flatten()))"
   ]
  },
  {
   "cell_type": "code",
   "execution_count": null,
   "metadata": {},
   "outputs": [],
   "source": [
    "nn_model3 = mlrose.NeuralNetwork(\n",
    "    hidden_nodes=[64,32,2], activation='tanh',\n",
    "    algorithm='genetic_alg', max_iters=2000, \n",
    "    bias=True, is_classifier=True, learning_rate=0.1, \n",
    "    early_stopping=True, clip_max=5, max_attempts=20, \n",
    "    pop_size=1000, mutation_prob=0.2,\n",
    "    random_state=3407, curve=True)\n",
    "\n",
    "nn_model3.fit(x_train, y_train)"
   ]
  },
  {
   "cell_type": "code",
   "execution_count": 143,
   "metadata": {},
   "outputs": [
    {
     "name": "stdout",
     "output_type": "stream",
     "text": [
      "0.8865262727458597 0.017468239564428313\n",
      "0.8878640776699029 0.03017241379310345\n"
     ]
    }
   ],
   "source": [
    "y_train_pred = nn_model3.predict(x_train)\n",
    "y_train_accuracy = accuracy_score(y_train, y_train_pred)\n",
    "print(y_train_accuracy, recall_score(y_train, y_train_pred.flatten()))\n",
    "\n",
    "y_test_pred = nn_model3.predict(x_test)\n",
    "y_test_accuracy = accuracy_score(y_test, y_test_pred)\n",
    "print(y_test_accuracy, recall_score(y_test, y_test_pred.flatten()))"
   ]
  },
  {
   "cell_type": "code",
   "execution_count": 147,
   "metadata": {},
   "outputs": [
    {
     "data": {
      "image/png": "[encoded data removed]",
      "text/plain": [
       "<Figure size 432x288 with 1 Axes>"
      ]
     },
     "metadata": {
      "needs_background": "light"
     },
     "output_type": "display_data"
    }
   ],
   "source": [
    "plt.figure()\n",
    "plt.plot(np.arange(1, len(nn_model0.fitness_curve)+1), nn_model0.fitness_curve, label='gradient_decent')\n",
    "plt.plot(np.arange(1, len(nn_model1.fitness_curve)+1), nn_model1.fitness_curve, label='random_hill_climb')\n",
    "plt.plot(np.arange(1, len(nn_model2.fitness_curve)+1), nn_model2.fitness_curve, label='simulated_annealing')\n",
    "plt.plot(np.arange(1, len(nn_model3.fitness_curve)+1), nn_model3.fitness_curve, label='genetic_alg')\n",
    "plt.legend()\n",
    "plt.xlabel('Iter')\n",
    "plt.ylabel('Obej')\n",
    "plt.ylim([-0.8, -0.3])\n",
    "plt.show()"
   ]
  }
 ],
 "metadata": {
  "kernelspec": {
   "display_name": "Python 3",
   "language": "python",
   "name": "python3"
  },
  "language_info": {
   "codemirror_mode": {
    "name": "ipython",
    "version": 3
   },
   "file_extension": ".py",
   "mimetype": "text/x-python",
   "name": "python",
   "nbconvert_exporter": "python",
   "pygments_lexer": "ipython3",
   "version": "3.7.0"
  }
 },
 "nbformat": 4,
 "nbformat_minor": 2
}
